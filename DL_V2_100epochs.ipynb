{
  "cells": [
    {
      "cell_type": "markdown",
      "source": [
        "# **Deep Learning Project 1**\n",
        "## *Spring 2025*\n",
        "**Team:** Neural Nexus (3 members)\n",
        "> Gopala Krishna Abba (ga2664),\n",
        "> Rushali Moteria (rm6971),\n",
        "> Hrishik Desai (hbd958)\n",
        "\n",
        "## **Goal**\n",
        "This competition involves designing a modified **Residual Network (ResNet)** with the highest possible **test accuracy** on a held-out portion of CIFAR-10.  \n",
        "**Constraint:** Your model must not exceed **5 million parameters**.\n"
      ],
      "metadata": {
        "id": "E7btrWrXoHRP"
      }
    },
    {
      "cell_type": "code",
      "execution_count": null,
      "metadata": {
        "colab": {
          "base_uri": "https://localhost:8080/"
        },
        "id": "RoGt2iwWD4PF",
        "outputId": "2d11bd32-2142-4a8f-8c96-73789f0c603c"
      },
      "outputs": [
        {
          "name": "stdout",
          "output_type": "stream",
          "text": [
            "Using device: cuda\n"
          ]
        }
      ],
      "source": [
        "# Importing necessary libraries\n",
        "import torch\n",
        "import torch.nn as nn\n",
        "import torch.optim as optim\n",
        "import torch.nn.functional as F\n",
        "import torchvision\n",
        "import torchvision.transforms as transforms\n",
        "import matplotlib.pyplot as plt\n",
        "import argparse\n",
        "import time\n",
        "from torch.optim.lr_scheduler import CosineAnnealingLR\n",
        "import pickle\n",
        "import numpy as np\n",
        "import pandas as pd\n",
        "from torch.utils.data import Dataset, DataLoader\n",
        "from torch.optim.lr_scheduler import StepLR, MultiStepLR\n",
        "import os\n",
        "from PIL import Image\n",
        "\n",
        "# Check if GPU is available, otherwise use CPU\n",
        "device = torch.device(\"cuda\" if torch.cuda.is_available() else \"cpu\")\n",
        "print(\"Using device:\", device)"
      ]
    },
    {
      "cell_type": "markdown",
      "source": [
        "## **ResNet BasicBlock Implementation**\n",
        "\n",
        "The **BasicBlock** class defines a **residual block**, a fundamental component of the **ResNet architecture**.  \n",
        "Each block consists of two **convolutional layers** with **Batch Normalization (BN)** and **ReLU activation**.  \n",
        "A **skip connection** (shortcut) is added to help prevent the vanishing gradient problem in deep networks."
      ],
      "metadata": {
        "id": "8aCCR_VHpRyS"
      }
    },
    {
      "cell_type": "code",
      "execution_count": null,
      "metadata": {
        "id": "cUpzwwANEFD6"
      },
      "outputs": [],
      "source": [
        "# Defining a BasicBlock for the ResNet architecture\n",
        "class BasicBlock(nn.Module):\n",
        "    def __init__(self, in_channels, out_channels, stride=1):\n",
        "        \"\"\"\n",
        "        Initializes the BasicBlock of ResNet.\n",
        "\n",
        "        Parameters:\n",
        "        - in_channels: Number of input channels.\n",
        "        - out_channels: Number of output channels.\n",
        "        - stride: Stride size for the convolution (default: 1).\n",
        "        \"\"\"\n",
        "        super(BasicBlock, self).__init__()\n",
        "\n",
        "        # First convolutional layer: 3x3 kernel, with specified stride and padding\n",
        "        self.conv1 = nn.Conv2d(in_channels, out_channels, kernel_size=3, stride=stride, padding=1, bias=False)\n",
        "        self.bn1 = nn.BatchNorm2d(out_channels)  # Batch Normalization for stable learning\n",
        "        self.relu = nn.ReLU(inplace=True)  # ReLU activation\n",
        "\n",
        "        # Second convolutional layer: 3x3 kernel, stride=1 (default), maintains spatial dimensions\n",
        "        self.conv2 = nn.Conv2d(out_channels, out_channels, kernel_size=3, stride=1, padding=1, bias=False)\n",
        "        self.bn2 = nn.BatchNorm2d(out_channels)\n",
        "\n",
        "        # Shortcut connection to match input-output dimensions if needed\n",
        "        self.shortcut = nn.Sequential()\n",
        "        if stride != 1 or in_channels != out_channels:\n",
        "            self.shortcut = nn.Sequential(\n",
        "                nn.Conv2d(in_channels, out_channels, kernel_size=1, stride=stride, bias=False),  # 1x1 conv to adjust dimensions\n",
        "                nn.BatchNorm2d(out_channels)  # Batch Normalization\n",
        "            )\n",
        "\n",
        "    def forward(self, x):\n",
        "        \"\"\"\n",
        "        Forward pass of the BasicBlock.\n",
        "\n",
        "        Parameters:\n",
        "        - x: Input tensor\n",
        "\n",
        "        Returns:\n",
        "        - Output tensor after applying the residual block\n",
        "        \"\"\"\n",
        "        out = F.relu(self.bn1(self.conv1(x)))  # First conv → BN → ReLU\n",
        "        out = self.bn2(self.conv2(out))  # Second conv → BN\n",
        "        out += self.shortcut(x)  # Add the shortcut connection\n",
        "        return F.relu(out)  # Final activation\n"
      ]
    },
    {
      "cell_type": "markdown",
      "source": [
        "This script initializes the necessary **deep learning libraries** and checks whether a GPU is available for training. Using GPU accelerates training significantly, making it ideal for large networks.\n"
      ],
      "metadata": {
        "id": "sE2hED0mqYjR"
      }
    },
    {
      "cell_type": "markdown",
      "source": [
        "## **ResNet-18 Architecture**\n",
        "\n",
        "The **ResNet-18 model** is a deep convolutional neural network designed to achieve **high accuracy on CIFAR-10** while ensuring **efficient computation**.  \n",
        "This implementation follows the **residual learning framework**, using **skip connections** to improve gradient flow in deep networks.\n"
      ],
      "metadata": {
        "id": "-5aPmIYKpn8p"
      }
    },
    {
      "cell_type": "code",
      "execution_count": null,
      "metadata": {
        "id": "RXnfl0mREMBI"
      },
      "outputs": [],
      "source": [
        "# Defining ResNet-18 Model\n",
        "class ResNet18(nn.Module):\n",
        "    def __init__(self, num_classes=10):\n",
        "        \"\"\"\n",
        "        Initializes the ResNet-18 model for CIFAR-10 classification.\n",
        "\n",
        "        Parameters:\n",
        "        - num_classes: Number of output classes (default: 10 for CIFAR-10).\n",
        "        \"\"\"\n",
        "        super(ResNet18, self).__init__()\n",
        "        self.in_channels = 64\n",
        "        self.conv1 = nn.Conv2d(3, 64, kernel_size=3, stride=1, padding=1, bias=False)\n",
        "        self.bn1 = nn.BatchNorm2d(64)\n",
        "        self.layer1 = self._make_layer(64, 3, stride=1)\n",
        "        self.layer2 = self._make_layer(128, 3, stride=2)\n",
        "        self.layer3 = self._make_layer(192, 3, stride=2)\n",
        "        self.layer4 = self._make_layer(192, 2, stride=2)\n",
        "        self.avg_pool = nn.AdaptiveAvgPool2d(1)\n",
        "        self.fc = nn.Linear(192, num_classes)\n",
        "\n",
        "\n",
        "    def _make_layer(self, out_channels, blocks, stride):\n",
        "        \"\"\"\n",
        "        Creates a residual layer with a specified number of blocks.\n",
        "\n",
        "        Parameters:\n",
        "        - out_channels: Number of output channels for the layer.\n",
        "        - blocks: Number of residual blocks in the layer.\n",
        "        - stride: Stride size for the first block.\n",
        "\n",
        "        Returns:\n",
        "        - A sequential block of residual units.\n",
        "        \"\"\"\n",
        "        layers = [BasicBlock(self.in_channels, out_channels, stride)]\n",
        "        self.in_channels = out_channels\n",
        "        for _ in range(1, blocks):\n",
        "            layers.append(BasicBlock(out_channels, out_channels))\n",
        "        return nn.Sequential(*layers)\n",
        "\n",
        "    def forward(self, x):\n",
        "        \"\"\"\n",
        "        Forward pass through the ResNet-18 model.\n",
        "\n",
        "        Parameters:\n",
        "        - x: Input tensor\n",
        "\n",
        "        Returns:\n",
        "        - Output tensor with class scores\n",
        "        \"\"\"\n",
        "        out = F.relu(self.bn1(self.conv1(x)))\n",
        "        out = self.layer1(out)\n",
        "        out = self.layer2(out)\n",
        "        out = self.layer3(out)\n",
        "        out = self.layer4(out)\n",
        "        out = self.avg_pool(out)\n",
        "        out = F.adaptive_avg_pool2d(out, (1, 1))\n",
        "        out = torch.flatten(out, 1)\n",
        "        return self.fc(out)"
      ]
    },
    {
      "cell_type": "markdown",
      "source": [
        "### **Architecture Overview**\n",
        "- **Initial Convolution Layer**:\n",
        "  - 3×3 convolution, 64 filters, stride=1\n",
        "  - Batch Normalization + ReLU activation\n",
        "- **Four Residual Layers**:\n",
        "  - Layer 1: 3 blocks, 64 channels, stride=1\n",
        "  - Layer 2: 3 blocks, 128 channels, stride=2 (downsampling)\n",
        "  - Layer 3: 3 blocks, 192 channels, stride=2 (downsampling)\n",
        "  - Layer 4: 2 blocks, 192 channels, stride=2 (downsampling)\n",
        "- **Global Average Pooling**: Reduces feature map to size (1×1).\n",
        "- **Fully Connected Layer**: Converts feature maps into class scores.\n",
        "\n",
        "### **Why Use ResNet-18?**\n",
        "**Improved Training Stability**: Skip connections help gradients flow efficiently.  \n",
        "**Better Generalization**: Deep but optimized architecture prevents overfitting.  \n",
        "**Achieves 90%+ Accuracy**: Optimized for CIFAR-10 under 5 million parameters.\n",
        "\n",
        "---\n"
      ],
      "metadata": {
        "id": "KztJ9E3_rW0b"
      }
    },
    {
      "cell_type": "markdown",
      "source": [
        "## **Loading CIFAR-10 Dataset**\n",
        "\n",
        "CIFAR-10 is a dataset consisting of **60,000 images** across **10 classes**.  \n",
        "The dataset is split into **5 training batches** and **1 test batch**.\n"
      ],
      "metadata": {
        "id": "vuJGpk5GrtV5"
      }
    },
    {
      "cell_type": "code",
      "execution_count": null,
      "metadata": {
        "id": "Q--wmf4Pw3Gt"
      },
      "outputs": [],
      "source": [
        "def load_cifar_batch(file):\n",
        "    \"\"\"\n",
        "    Loads a batch of CIFAR-10 dataset from a given file.\n",
        "\n",
        "    Parameters:\n",
        "    - file: Path to the CIFAR-10 batch file.\n",
        "\n",
        "    Returns:\n",
        "    - batch: A dictionary containing images and labels from the batch.\n",
        "    \"\"\"\n",
        "    with open(file, 'rb') as fo:\n",
        "        batch = pickle.load(fo, encoding='bytes')  # Load CIFAR-10 batch file\n",
        "    return batch  # Return the loaded batch"
      ]
    },
    {
      "cell_type": "markdown",
      "source": [
        "### **Function Overview**\n",
        "- **Reads the CIFAR-10 dataset file** in binary mode (`rb`).\n",
        "- **Uses `pickle.load`** to deserialize and extract image-label data.\n",
        "- **Returns** a dictionary containing images and their corresponding labels.\n"
      ],
      "metadata": {
        "id": "r2l5j2mWr9-r"
      }
    },
    {
      "cell_type": "markdown",
      "source": [
        "## **Loading and Preprocessing CIFAR-10 Dataset**\n",
        "\n",
        "The CIFAR-10 dataset contains **60,000 images** across **10 classes**, with **50,000 training images** and **10,000 test images**.  \n",
        "We first **load the dataset** from the local directory, then apply **data augmentation** techniques to improve generalization."
      ],
      "metadata": {
        "id": "OqeLavXVsKKj"
      }
    },
    {
      "cell_type": "code",
      "execution_count": null,
      "metadata": {
        "id": "Y0UnSU2yw1hh"
      },
      "outputs": [],
      "source": [
        "# Define the root directory where CIFAR-10 data is stored\n",
        "root_dir = '/content'\n",
        "\n",
        "# Load CIFAR-10 metadata containing label names\n",
        "meta_data_dict = load_cifar_batch(os.path.join(root_dir, 'batches.meta'))\n",
        "label_names = [label.decode('utf-8') for label in meta_data_dict[b'label_names']]  # Decode label names from bytes\n",
        "\n",
        "# Initialize lists to store training data and labels\n",
        "train_data = []\n",
        "train_labels = []\n",
        "\n",
        "# Load all 5 training batches\n",
        "for i in range(1, 6):\n",
        "    batch = load_cifar_batch(os.path.join(root_dir, f'data_batch_{i}'))  # Load batch file\n",
        "    train_data.append(batch[b'data'])  # Extract image data\n",
        "    train_labels += batch[b'labels']  # Extract labels\n",
        "\n",
        "# Convert data to NumPy array and reshape it to (N, 3, 32, 32), then transpose to (N, 32, 32, 3)\n",
        "train_data = np.vstack(train_data).reshape(-1, 3, 32, 32).transpose(0, 2, 3, 1)\n",
        "train_labels = np.array(train_labels)  # Convert labels to NumPy array\n",
        "\n",
        "# Define data augmentation and preprocessing transforms\n",
        "transform = transforms.Compose([\n",
        "    transforms.ToPILImage(),  # Convert NumPy array to PIL Image\n",
        "    transforms.RandomRotation(10),  # Rotate images randomly up to ±10 degrees\n",
        "    transforms.ColorJitter(brightness=0.1, contrast=0.1, saturation=0.1),  # Adjust color properties\n",
        "    transforms.RandomHorizontalFlip(p=0.5),  # Flip images horizontally with 50% probability\n",
        "    transforms.RandomAdjustSharpness(sharpness_factor=2, p=0.2),  # Apply sharpening with 20% probability\n",
        "    transforms.RandomCrop(32, padding=4),  # Randomly crop images with padding\n",
        "    transforms.ToTensor(),  # Convert to tensor format for PyTorch\n",
        "    transforms.Normalize((0.4914, 0.4822, 0.4465), (0.247, 0.243, 0.261)),  # Normalize using CIFAR-10 mean and std\n",
        "    transforms.RandomErasing(p=0.2, scale=(0.02, 0.1), value=1.0, inplace=False)  # Randomly erase parts of the image\n",
        "])\n"
      ]
    },
    {
      "cell_type": "markdown",
      "source": [
        "### **Explanation**\n",
        "1. **Load CIFAR-10 Batches**  \n",
        "   - Reads **5 training batches** from local storage.\n",
        "   - Extracts **image data** and **labels**.\n",
        "   - Reshapes images into the standard **(N, 32, 32, 3) format**.\n",
        "\n",
        "2. **Data Augmentation Techniques**  \n",
        "   - **Rotation:** Randomly rotates images ±10° to improve orientation invariance.\n",
        "   - **Color Jitter:** Adjusts brightness, contrast, and saturation.\n",
        "   - **Horizontal Flip:** Randomly flips images to enhance robustness.\n",
        "   - **Sharpness Adjustment:** Increases sharpness with **20% probability**.\n",
        "   - **Random Crop:** Randomly crops images with padding to simulate different perspectives.\n",
        "   - **Normalization:** Normalizes using CIFAR-10 mean `(0.4914, 0.4822, 0.4465)` and std `(0.247, 0.243, 0.261)`.\n",
        "   - **Random Erasing:** Deletes parts of the image randomly for robustness.\n",
        "\n",
        "---\n"
      ],
      "metadata": {
        "id": "gd7gRl7Rsnt1"
      }
    },
    {
      "cell_type": "markdown",
      "source": [
        "## **Custom CIFAR-10 Dataset Class**\n",
        "\n",
        "PyTorch provides a built-in CIFAR-10 dataset (`torchvision.datasets.CIFAR10`),  \n",
        "but we define a **custom dataset class** to allow **flexibility in data transformations**.\n"
      ],
      "metadata": {
        "id": "BpajsSeGtGSN"
      }
    },
    {
      "cell_type": "code",
      "execution_count": null,
      "metadata": {
        "id": "TTIv3SffxAse"
      },
      "outputs": [],
      "source": [
        "import torch\n",
        "from torch.utils.data import Dataset\n",
        "\n",
        "# Define a custom PyTorch Dataset class for CIFAR-10\n",
        "class CIFAR10Custom(Dataset):\n",
        "    def __init__(self, images, labels, transform=None):\n",
        "        \"\"\"\n",
        "        Initializes the CIFAR-10 custom dataset.\n",
        "\n",
        "        Parameters:\n",
        "        - images: NumPy array of image data.\n",
        "        - labels: NumPy array of labels corresponding to images.\n",
        "        - transform: Data transformation (e.g., augmentation, normalization).\n",
        "        \"\"\"\n",
        "        self.images = images  # Store image data\n",
        "        self.labels = labels  # Store corresponding labels\n",
        "        self.transform = transform  # Store transformations\n",
        "\n",
        "    def __len__(self):\n",
        "        \"\"\"\n",
        "        Returns the number of samples in the dataset.\n",
        "\n",
        "        Returns:\n",
        "        - int: Total number of images.\n",
        "        \"\"\"\n",
        "        return len(self.images)  # Return dataset size\n",
        "\n",
        "    def __getitem__(self, idx):\n",
        "        \"\"\"\n",
        "        Retrieves a single image-label pair from the dataset.\n",
        "\n",
        "        Parameters:\n",
        "        - idx: Index of the sample.\n",
        "\n",
        "        Returns:\n",
        "        - img: Transformed image tensor.\n",
        "        - label: Corresponding label.\n",
        "        \"\"\"\n",
        "        img = self.images[idx]  # Get image at index\n",
        "        label = self.labels[idx]  # Get label at index\n",
        "\n",
        "        if self.transform:\n",
        "            img = self.transform(img)  # Apply transformations (e.g., augmentation)\n",
        "\n",
        "        return img, label  # Return the transformed image and label\n",
        "\n",
        "# Create a training dataset instance\n",
        "train_dataset = CIFAR10Custom(train_data, train_labels, transform=transform)\n"
      ]
    },
    {
      "cell_type": "markdown",
      "source": [
        "### **Dataset Overview**\n",
        "- **Custom Dataset Class:**  \n",
        "  - Allows flexibility in **applying transformations** to data.  \n",
        "  - Works seamlessly with PyTorch’s `DataLoader`.\n",
        "\n",
        "- **Key Functions:**  \n",
        "  - `__init__()`: Stores images, labels, and transformations.  \n",
        "  - `__len__()`: Returns total dataset size.  \n",
        "  - `__getitem__()`: Retrieves a single **image-label pair** and applies transformations.\n",
        "\n",
        "---"
      ],
      "metadata": {
        "id": "d7fMy_zZtMKH"
      }
    },
    {
      "cell_type": "markdown",
      "source": [
        "## **Test Data Preprocessing & DataLoader Setup**\n",
        "\n",
        "To evaluate model performance, we **load** and **preprocess** the **CIFAR-10 test dataset**.  \n",
        "Since this dataset is used for evaluation, **no data augmentation** is applied."
      ],
      "metadata": {
        "id": "p2iYGuL7tmsQ"
      }
    },
    {
      "cell_type": "code",
      "execution_count": null,
      "metadata": {
        "id": "83WYhW65xag9"
      },
      "outputs": [],
      "source": [
        "# Defining test dataset transformations (No data augmentation, only normalization)\n",
        "test_transform = transforms.Compose([\n",
        "    transforms.ToPILImage(),  # Convert numpy array to PIL Image\n",
        "    transforms.ToTensor(),  # Convert to PyTorch tensor\n",
        "    transforms.Normalize((0.4914, 0.4822, 0.4465), (0.247, 0.243, 0.261))  # Normalize using CIFAR-10 mean & std\n",
        "])\n",
        "\n",
        "# Load validation batch from the CIFAR-10 test dataset\n",
        "batch_test_dict = load_cifar_batch(os.path.join(root_dir, 'test_batch'))\n",
        "\n",
        "# Reshape test images to (N, 32, 32, 3) format\n",
        "val_images = batch_test_dict[b'data'].reshape(-1, 3, 32, 32).transpose(0, 2, 3, 1)\n",
        "\n",
        "# Convert test labels to NumPy array\n",
        "val_labels = np.array(batch_test_dict[b'labels'])\n",
        "\n",
        "# Create validation dataset using the custom CIFAR-10 dataset class\n",
        "val_dataset = CIFAR10Custom(val_images, val_labels, transform=test_transform)\n",
        "\n",
        "# Create DataLoaders for training and validation datasets\n",
        "train_loader = DataLoader(train_dataset, batch_size=256, shuffle=True, num_workers=2)\n",
        "val_loader = DataLoader(val_dataset, batch_size=256, shuffle=False, num_workers=2)\n",
        "\n",
        "# Load unlabeled test data for inference\n",
        "test_batch = load_cifar_batch('/content/cifar_test_nolabel.pkl')\n",
        "\n",
        "# Normalize test images (scale pixel values to [0,1])\n",
        "test_images = test_batch[b'data'].astype(np.float32) / 255.0\n",
        "\n",
        "# Apply transformations on test dataset (note: no labels in test set)\n",
        "test_dataset = [(test_transform(img),) for img in test_images]\n",
        "\n",
        "# Create DataLoader for test dataset\n",
        "test_loader = DataLoader(test_dataset, batch_size=256, shuffle=False, num_workers=2)\n"
      ]
    },
    {
      "cell_type": "markdown",
      "source": [
        "### **Explanation**\n",
        "#### **1. Defining the Test Data Transformations**\n",
        "- **No augmentation** is applied (since this is evaluation data).\n",
        "- **Normalization** is applied using CIFAR-10 mean `(0.4914, 0.4822, 0.4465)` and std `(0.247, 0.243, 0.261)`.\n",
        "\n",
        "#### **2. Loading Validation Data**\n",
        "- The test batch is **loaded** and **reshaped** into standard **(N, 32, 32, 3)** format.\n",
        "- Labels are stored separately in a NumPy array.\n",
        "- A **custom dataset class** is used to apply transformations.\n",
        "\n",
        "#### **3. Preparing Training & Validation DataLoaders**\n",
        "- **Training DataLoader**: Uses **batch size = 256**, **shuffling enabled**.\n",
        "- **Validation DataLoader**: Uses **batch size = 256**, **no shuffling**.\n",
        "\n",
        "#### **4. Loading Unlabeled Test Data**\n",
        "- An unlabeled test dataset is loaded (`cifar_test_nolabel.pkl`).\n",
        "- Pixel values are **scaled to [0,1]**.\n",
        "- Transformations are applied before creating a DataLoader.\n",
        "\n",
        "---\n"
      ],
      "metadata": {
        "id": "-9u9vZUitykA"
      }
    },
    {
      "cell_type": "markdown",
      "source": [
        "## **Training & Evaluation of ResNet on CIFAR-10**\n",
        "This function **trains and evaluates** the **ResNet model** on the **CIFAR-10 dataset**.  \n",
        "It tracks **training accuracy, validation accuracy, and loss trends** over multiple epochs.\n"
      ],
      "metadata": {
        "id": "8sYek4rOuQ7a"
      }
    },
    {
      "cell_type": "code",
      "execution_count": null,
      "metadata": {
        "id": "N3I1J-FwETyL"
      },
      "outputs": [],
      "source": [
        "import time\n",
        "import torch\n",
        "import matplotlib.pyplot as plt\n",
        "\n",
        "def train_and_evaluate(model, device, train_loader, val_loader, optimizer, scheduler, criterion, epochs=100):\n",
        "    \"\"\"\n",
        "    Trains and evaluates the ResNet model on CIFAR-10 dataset.\n",
        "\n",
        "    Parameters:\n",
        "    - model: PyTorch model to be trained.\n",
        "    - device: 'cuda' if GPU is available, else 'cpu'.\n",
        "    - train_loader: DataLoader for the training dataset.\n",
        "    - val_loader: DataLoader for the validation dataset.\n",
        "    - optimizer: Optimizer for model training (e.g., Adam, SGD).\n",
        "    - scheduler: Learning rate scheduler.\n",
        "    - criterion: Loss function (e.g., CrossEntropyLoss).\n",
        "    - epochs: Number of training epochs (default: 100).\n",
        "\n",
        "    Returns:\n",
        "    - None (prints training and validation metrics, and plots accuracy/loss graphs).\n",
        "    \"\"\"\n",
        "\n",
        "    # Lists to store training and validation metrics\n",
        "    train_acc_list = []\n",
        "    train_losses = []\n",
        "    val_losses = []\n",
        "    val_accuracies = []\n",
        "\n",
        "    for epoch in range(epochs):\n",
        "        model.train()  # Set model to training mode\n",
        "        start_time = time.time()\n",
        "\n",
        "        correct, total, running_loss = 0, 0, 0.0\n",
        "\n",
        "        # Training loop\n",
        "        for inputs, targets in train_loader:\n",
        "            inputs, targets = inputs.to(device), targets.to(device)  # Move data to device\n",
        "\n",
        "            optimizer.zero_grad()  # Reset gradients\n",
        "            outputs = model(inputs)  # Forward pass\n",
        "            loss = criterion(outputs, targets)  # Compute loss\n",
        "            loss.backward()  # Backpropagation\n",
        "            optimizer.step()  # Update weights\n",
        "\n",
        "            running_loss += loss.item()  # Accumulate loss\n",
        "            _, predicted = outputs.max(1)  # Get predictions\n",
        "            total += targets.size(0)  # Count total samples\n",
        "            correct += predicted.eq(targets).sum().item()  # Count correctly predicted samples\n",
        "\n",
        "        # Compute training loss and accuracy\n",
        "        train_loss = running_loss / len(train_loader)\n",
        "        train_acc = 100. * correct / total\n",
        "        train_acc_list.append(train_acc)\n",
        "        train_losses.append(train_loss)\n",
        "\n",
        "        # Evaluation on validation set\n",
        "        model.eval()  # Set model to evaluation mode\n",
        "        val_loss = 0.0\n",
        "        loss_correct = 0\n",
        "        loss_total = 0\n",
        "\n",
        "        with torch.no_grad():  # Disable gradient computation for efficiency\n",
        "            for images, labels in val_loader:\n",
        "                images, labels = images.to(device), labels.to(device)\n",
        "                outputs = model(images)\n",
        "                loss = criterion(outputs, labels)\n",
        "                val_loss += loss.item()\n",
        "\n",
        "                _, predicted = torch.max(outputs, 1)\n",
        "                loss_total += labels.size(0)\n",
        "                loss_correct += (predicted == labels).sum().item()\n",
        "\n",
        "        # Compute validation loss and accuracy\n",
        "        val_loss /= len(val_loader)\n",
        "        val_acc = 100 * loss_correct / loss_total\n",
        "        val_losses.append(val_loss)\n",
        "        val_accuracies.append(val_acc)\n",
        "\n",
        "        # Adjust learning rate\n",
        "        scheduler.step()\n",
        "\n",
        "        # Print epoch results\n",
        "        print(f'Epoch {epoch+1}, Train Acc: {train_acc:.2f}%, Val Loss: {val_loss:.4f}, Val Acc: {val_acc:.2f}%')\n",
        "\n",
        "    # Plot Loss Curves\n",
        "    plt.figure(figsize=(10, 5))\n",
        "    plt.plot(range(1, epochs + 1), train_losses, label='Train Loss', color='red')\n",
        "    plt.plot(range(1, epochs + 1), val_losses, label='Validation Loss', color='blue')\n",
        "    plt.xlabel('Epochs')\n",
        "    plt.ylabel('Loss')\n",
        "    plt.title('Train Loss & Validation Loss')\n",
        "    plt.legend()\n",
        "    plt.grid()\n",
        "    plt.show()\n",
        "\n",
        "    # Plot Training vs Validation Accuracy\n",
        "    plt.figure(figsize=(10, 5))\n",
        "    plt.plot(range(1, epochs+1), train_acc_list, label=\"Train Accuracy\", color='green')\n",
        "    plt.plot(range(1, epochs+1), val_accuracies, label=\"Validation Accuracy\", color='orange')\n",
        "    plt.xlabel(\"Epochs\")\n",
        "    plt.ylabel(\"Accuracy (%)\")\n",
        "    plt.title(\"Training vs Validation Accuracy\")\n",
        "    plt.legend()\n",
        "    plt.grid()\n",
        "    plt.show()\n"
      ]
    },
    {
      "cell_type": "markdown",
      "source": [
        "### **Explanation**\n",
        "#### **1. Training Phase**\n",
        "- **For each batch**:\n",
        "  - **Forward pass**: Compute model predictions.\n",
        "  - **Compute loss**: Using `CrossEntropyLoss`.\n",
        "  - **Backpropagation**: Compute gradients.\n",
        "  - **Update weights**: Using `optimizer.step()`.\n",
        "\n",
        "#### **2. Evaluation Phase**\n",
        "- **Disable gradients** (`torch.no_grad()`).\n",
        "- **Compute validation loss**.\n",
        "- **Compute validation accuracy**.\n",
        "\n",
        "#### **3. Learning Rate Adjustment**\n",
        "- Uses `scheduler.step()` for dynamic learning rate changes.\n",
        "\n",
        "#### **4. Visualization**\n",
        "- **Loss Curve**: Tracks **train & validation loss**.\n",
        "- **Accuracy Curve**: Compares **train & validation accuracy**.\n",
        "\n",
        "---\n"
      ],
      "metadata": {
        "id": "-ZScSn7XuXHq"
      }
    },
    {
      "cell_type": "markdown",
      "source": [
        "## **Model Initialization & Training Setup**\n",
        "We initialize the **ResNet-18 model**, define a **loss function**, select an **optimizer**, and configure a **learning rate scheduler**."
      ],
      "metadata": {
        "id": "c0qo3nZ6udSR"
      }
    },
    {
      "cell_type": "code",
      "execution_count": null,
      "metadata": {
        "colab": {
          "base_uri": "https://localhost:8080/"
        },
        "id": "EUIOMmfB1bzp",
        "outputId": "2b9230f9-e7b5-4c4a-d715-859356881f83"
      },
      "outputs": [
        {
          "name": "stdout",
          "output_type": "stream",
          "text": [
            "----------------------------------------------------------------\n",
            "        Layer (type)               Output Shape         Param #\n",
            "================================================================\n",
            "            Conv2d-1           [-1, 64, 32, 32]           1,728\n",
            "       BatchNorm2d-2           [-1, 64, 32, 32]             128\n",
            "            Conv2d-3           [-1, 64, 32, 32]          36,864\n",
            "       BatchNorm2d-4           [-1, 64, 32, 32]             128\n",
            "            Conv2d-5           [-1, 64, 32, 32]          36,864\n",
            "       BatchNorm2d-6           [-1, 64, 32, 32]             128\n",
            "        BasicBlock-7           [-1, 64, 32, 32]               0\n",
            "            Conv2d-8           [-1, 64, 32, 32]          36,864\n",
            "       BatchNorm2d-9           [-1, 64, 32, 32]             128\n",
            "           Conv2d-10           [-1, 64, 32, 32]          36,864\n",
            "      BatchNorm2d-11           [-1, 64, 32, 32]             128\n",
            "       BasicBlock-12           [-1, 64, 32, 32]               0\n",
            "           Conv2d-13           [-1, 64, 32, 32]          36,864\n",
            "      BatchNorm2d-14           [-1, 64, 32, 32]             128\n",
            "           Conv2d-15           [-1, 64, 32, 32]          36,864\n",
            "      BatchNorm2d-16           [-1, 64, 32, 32]             128\n",
            "       BasicBlock-17           [-1, 64, 32, 32]               0\n",
            "           Conv2d-18          [-1, 128, 16, 16]          73,728\n",
            "      BatchNorm2d-19          [-1, 128, 16, 16]             256\n",
            "           Conv2d-20          [-1, 128, 16, 16]         147,456\n",
            "      BatchNorm2d-21          [-1, 128, 16, 16]             256\n",
            "           Conv2d-22          [-1, 128, 16, 16]           8,192\n",
            "      BatchNorm2d-23          [-1, 128, 16, 16]             256\n",
            "       BasicBlock-24          [-1, 128, 16, 16]               0\n",
            "           Conv2d-25          [-1, 128, 16, 16]         147,456\n",
            "      BatchNorm2d-26          [-1, 128, 16, 16]             256\n",
            "           Conv2d-27          [-1, 128, 16, 16]         147,456\n",
            "      BatchNorm2d-28          [-1, 128, 16, 16]             256\n",
            "       BasicBlock-29          [-1, 128, 16, 16]               0\n",
            "           Conv2d-30          [-1, 128, 16, 16]         147,456\n",
            "      BatchNorm2d-31          [-1, 128, 16, 16]             256\n",
            "           Conv2d-32          [-1, 128, 16, 16]         147,456\n",
            "      BatchNorm2d-33          [-1, 128, 16, 16]             256\n",
            "       BasicBlock-34          [-1, 128, 16, 16]               0\n",
            "           Conv2d-35            [-1, 192, 8, 8]         221,184\n",
            "      BatchNorm2d-36            [-1, 192, 8, 8]             384\n",
            "           Conv2d-37            [-1, 192, 8, 8]         331,776\n",
            "      BatchNorm2d-38            [-1, 192, 8, 8]             384\n",
            "           Conv2d-39            [-1, 192, 8, 8]          24,576\n",
            "      BatchNorm2d-40            [-1, 192, 8, 8]             384\n",
            "       BasicBlock-41            [-1, 192, 8, 8]               0\n",
            "           Conv2d-42            [-1, 192, 8, 8]         331,776\n",
            "      BatchNorm2d-43            [-1, 192, 8, 8]             384\n",
            "           Conv2d-44            [-1, 192, 8, 8]         331,776\n",
            "      BatchNorm2d-45            [-1, 192, 8, 8]             384\n",
            "       BasicBlock-46            [-1, 192, 8, 8]               0\n",
            "           Conv2d-47            [-1, 192, 8, 8]         331,776\n",
            "      BatchNorm2d-48            [-1, 192, 8, 8]             384\n",
            "           Conv2d-49            [-1, 192, 8, 8]         331,776\n",
            "      BatchNorm2d-50            [-1, 192, 8, 8]             384\n",
            "       BasicBlock-51            [-1, 192, 8, 8]               0\n",
            "           Conv2d-52            [-1, 192, 4, 4]         331,776\n",
            "      BatchNorm2d-53            [-1, 192, 4, 4]             384\n",
            "           Conv2d-54            [-1, 192, 4, 4]         331,776\n",
            "      BatchNorm2d-55            [-1, 192, 4, 4]             384\n",
            "           Conv2d-56            [-1, 192, 4, 4]          36,864\n",
            "      BatchNorm2d-57            [-1, 192, 4, 4]             384\n",
            "       BasicBlock-58            [-1, 192, 4, 4]               0\n",
            "           Conv2d-59            [-1, 192, 4, 4]         331,776\n",
            "      BatchNorm2d-60            [-1, 192, 4, 4]             384\n",
            "           Conv2d-61            [-1, 192, 4, 4]         331,776\n",
            "      BatchNorm2d-62            [-1, 192, 4, 4]             384\n",
            "       BasicBlock-63            [-1, 192, 4, 4]               0\n",
            "AdaptiveAvgPool2d-64            [-1, 192, 1, 1]               0\n",
            "           Linear-65                   [-1, 10]           1,930\n",
            "================================================================\n",
            "Total params: 4,319,946\n",
            "Trainable params: 4,319,946\n",
            "Non-trainable params: 0\n",
            "----------------------------------------------------------------\n",
            "Input size (MB): 0.01\n",
            "Forward/backward pass size (MB): 14.63\n",
            "Params size (MB): 16.48\n",
            "Estimated Total Size (MB): 31.12\n",
            "----------------------------------------------------------------\n"
          ]
        }
      ],
      "source": [
        "# Initialize the ResNet-18 model and move it to the selected device (GPU or CPU)\n",
        "model = ResNet18().to(device)\n",
        "\n",
        "# Print model summary to check parameter count and layer architecture\n",
        "summary(model, (3, 32, 32))  # Input size: (channels=3, height=32, width=32)\n",
        "\n",
        "# Define loss function (CrossEntropyLoss is standard for classification tasks)\n",
        "criterion = nn.CrossEntropyLoss()\n",
        "\n",
        "# Define optimizer (SGD with momentum and weight decay for better convergence)\n",
        "optimizer = optim.SGD(model.parameters(), lr=0.1, momentum=0.9, weight_decay=1e-4)\n",
        "\n",
        "# Define learning rate scheduler (MultiStepLR reduces LR at specific epochs)\n",
        "scheduler = MultiStepLR(optimizer, milestones=[30, 60, 80, 90], gamma=0.1)"
      ]
    },
    {
      "cell_type": "markdown",
      "source": [
        "### **1. Model Initialization**\n",
        "- **`ResNet18().to(device)`**: Loads the model onto GPU (if available).\n",
        "- **`summary(model, (3, 32, 32))`**: Displays model architecture and total trainable parameters.\n",
        "\n",
        "### **2. Loss Function (Criterion)**\n",
        "- **CrossEntropyLoss** is used because CIFAR-10 is a **multi-class classification** problem.\n",
        "\n",
        "### **3. Optimizer (SGD)**\n",
        "- **Stochastic Gradient Descent (SGD)** with:\n",
        "  - **Learning Rate = 0.1**\n",
        "  - **Momentum = 0.9** (Improves stability in gradient updates)\n",
        "  - **Weight Decay = 1e-4** (Prevents overfitting by penalizing large weights)\n",
        "\n",
        "### **4. Learning Rate Scheduler (MultiStepLR)**\n",
        "- **Purpose**: Reduces learning rate at specific epochs to refine learning.\n",
        "- **Milestones**: `[30, 60, 80, 90]` (LR decreases at these epochs).\n",
        "- **Gamma = 0.1**: The learning rate is multiplied by **0.1** at each milestone.\n",
        "\n",
        "---"
      ],
      "metadata": {
        "id": "O2nWb5oXuoSC"
      }
    },
    {
      "cell_type": "markdown",
      "source": [
        "## **Executing Model Training**\n",
        "Now, we train and evaluate our **ResNet-18 model** on the **CIFAR-10 dataset** for **100 epochs**.\n",
        "\n",
        "### **Training Process**\n",
        "- **Model**: ResNet-18\n",
        "- **Dataset**: CIFAR-10\n",
        "- **Training Loader**: `train_loader`\n",
        "- **Validation Loader**: `test_loader`\n",
        "- **Optimizer**: SGD (Momentum 0.9, Weight Decay 1e-4)\n",
        "- **Learning Rate Scheduler**: MultiStepLR (decays at epochs 30, 60, 80, 90)\n",
        "- **Loss Function**: CrossEntropyLoss\n",
        "- **Epochs**: 100"
      ],
      "metadata": {
        "id": "d1kSVND5u4zW"
      }
    },
    {
      "cell_type": "code",
      "execution_count": null,
      "metadata": {
        "colab": {
          "base_uri": "https://localhost:8080/",
          "height": 1000
        },
        "id": "z1uvEQThGjaI",
        "outputId": "3a3d362f-d04d-4bba-af31-e2715a495e4d"
      },
      "outputs": [
        {
          "name": "stdout",
          "output_type": "stream",
          "text": [
            "Epoch 1, Train Acc: 36.17%, Val Loss: 1.4952, Val Acc: 46.23%\n",
            "Epoch 2, Train Acc: 52.05%, Val Loss: 1.1489, Val Acc: 58.09%\n",
            "Epoch 3, Train Acc: 60.88%, Val Loss: 1.0012, Val Acc: 64.67%\n",
            "Epoch 4, Train Acc: 67.89%, Val Loss: 0.9406, Val Acc: 67.67%\n",
            "Epoch 5, Train Acc: 72.56%, Val Loss: 0.7943, Val Acc: 72.86%\n",
            "Epoch 6, Train Acc: 76.04%, Val Loss: 0.6418, Val Acc: 78.23%\n",
            "Epoch 7, Train Acc: 78.24%, Val Loss: 0.6363, Val Acc: 78.97%\n",
            "Epoch 8, Train Acc: 79.94%, Val Loss: 0.5895, Val Acc: 79.68%\n",
            "Epoch 9, Train Acc: 81.50%, Val Loss: 0.4911, Val Acc: 83.36%\n",
            "Epoch 10, Train Acc: 82.66%, Val Loss: 0.5508, Val Acc: 80.66%\n",
            "Epoch 11, Train Acc: 83.86%, Val Loss: 0.4169, Val Acc: 85.77%\n",
            "Epoch 12, Train Acc: 85.05%, Val Loss: 0.4944, Val Acc: 83.15%\n",
            "Epoch 13, Train Acc: 85.44%, Val Loss: 0.4537, Val Acc: 84.87%\n",
            "Epoch 14, Train Acc: 86.07%, Val Loss: 0.4785, Val Acc: 84.63%\n",
            "Epoch 15, Train Acc: 86.85%, Val Loss: 0.3785, Val Acc: 87.15%\n",
            "Epoch 16, Train Acc: 87.49%, Val Loss: 0.3943, Val Acc: 86.77%\n",
            "Epoch 17, Train Acc: 88.01%, Val Loss: 0.4065, Val Acc: 86.60%\n",
            "Epoch 18, Train Acc: 88.59%, Val Loss: 0.4202, Val Acc: 86.57%\n",
            "Epoch 19, Train Acc: 89.00%, Val Loss: 0.3797, Val Acc: 88.10%\n",
            "Epoch 20, Train Acc: 89.82%, Val Loss: 0.3434, Val Acc: 88.69%\n",
            "Epoch 21, Train Acc: 90.01%, Val Loss: 0.3556, Val Acc: 88.18%\n",
            "Epoch 22, Train Acc: 90.00%, Val Loss: 0.3452, Val Acc: 88.65%\n",
            "Epoch 23, Train Acc: 90.45%, Val Loss: 0.3566, Val Acc: 88.48%\n",
            "Epoch 24, Train Acc: 90.87%, Val Loss: 0.3472, Val Acc: 89.05%\n",
            "Epoch 25, Train Acc: 91.35%, Val Loss: 0.3800, Val Acc: 88.35%\n",
            "Epoch 26, Train Acc: 91.47%, Val Loss: 0.3468, Val Acc: 89.08%\n",
            "Epoch 27, Train Acc: 91.92%, Val Loss: 0.3616, Val Acc: 88.65%\n",
            "Epoch 28, Train Acc: 91.79%, Val Loss: 0.3155, Val Acc: 89.58%\n",
            "Epoch 29, Train Acc: 92.20%, Val Loss: 0.3250, Val Acc: 89.64%\n",
            "Epoch 30, Train Acc: 92.34%, Val Loss: 0.3154, Val Acc: 90.19%\n",
            "Epoch 31, Train Acc: 94.96%, Val Loss: 0.2207, Val Acc: 92.81%\n",
            "Epoch 32, Train Acc: 95.77%, Val Loss: 0.2222, Val Acc: 92.90%\n",
            "Epoch 33, Train Acc: 96.25%, Val Loss: 0.2195, Val Acc: 93.16%\n",
            "Epoch 34, Train Acc: 96.36%, Val Loss: 0.2213, Val Acc: 93.14%\n",
            "Epoch 35, Train Acc: 96.65%, Val Loss: 0.2227, Val Acc: 93.30%\n",
            "Epoch 36, Train Acc: 96.73%, Val Loss: 0.2214, Val Acc: 93.38%\n",
            "Epoch 37, Train Acc: 96.78%, Val Loss: 0.2253, Val Acc: 93.28%\n",
            "Epoch 38, Train Acc: 96.94%, Val Loss: 0.2264, Val Acc: 93.46%\n",
            "Epoch 39, Train Acc: 97.05%, Val Loss: 0.2264, Val Acc: 93.31%\n",
            "Epoch 40, Train Acc: 97.17%, Val Loss: 0.2287, Val Acc: 93.28%\n",
            "Epoch 41, Train Acc: 97.30%, Val Loss: 0.2307, Val Acc: 93.32%\n",
            "Epoch 42, Train Acc: 97.18%, Val Loss: 0.2303, Val Acc: 93.17%\n",
            "Epoch 43, Train Acc: 97.41%, Val Loss: 0.2346, Val Acc: 93.33%\n",
            "Epoch 44, Train Acc: 97.53%, Val Loss: 0.2349, Val Acc: 93.47%\n",
            "Epoch 45, Train Acc: 97.41%, Val Loss: 0.2310, Val Acc: 93.28%\n",
            "Epoch 46, Train Acc: 97.48%, Val Loss: 0.2355, Val Acc: 93.25%\n",
            "Epoch 47, Train Acc: 97.72%, Val Loss: 0.2419, Val Acc: 93.27%\n",
            "Epoch 48, Train Acc: 97.66%, Val Loss: 0.2380, Val Acc: 93.45%\n",
            "Epoch 49, Train Acc: 97.85%, Val Loss: 0.2377, Val Acc: 93.42%\n",
            "Epoch 50, Train Acc: 97.87%, Val Loss: 0.2411, Val Acc: 93.46%\n",
            "Epoch 51, Train Acc: 97.92%, Val Loss: 0.2395, Val Acc: 93.57%\n",
            "Epoch 52, Train Acc: 97.76%, Val Loss: 0.2457, Val Acc: 93.47%\n",
            "Epoch 53, Train Acc: 98.02%, Val Loss: 0.2420, Val Acc: 93.54%\n",
            "Epoch 54, Train Acc: 98.07%, Val Loss: 0.2447, Val Acc: 93.63%\n",
            "Epoch 55, Train Acc: 98.05%, Val Loss: 0.2494, Val Acc: 93.36%\n",
            "Epoch 56, Train Acc: 98.10%, Val Loss: 0.2481, Val Acc: 93.59%\n",
            "Epoch 57, Train Acc: 98.07%, Val Loss: 0.2459, Val Acc: 93.58%\n",
            "Epoch 58, Train Acc: 98.15%, Val Loss: 0.2502, Val Acc: 93.48%\n",
            "Epoch 59, Train Acc: 98.21%, Val Loss: 0.2517, Val Acc: 93.47%\n",
            "Epoch 60, Train Acc: 98.25%, Val Loss: 0.2565, Val Acc: 93.34%\n",
            "Epoch 61, Train Acc: 98.39%, Val Loss: 0.2515, Val Acc: 93.47%\n",
            "Epoch 62, Train Acc: 98.48%, Val Loss: 0.2491, Val Acc: 93.48%\n",
            "Epoch 63, Train Acc: 98.54%, Val Loss: 0.2483, Val Acc: 93.53%\n",
            "Epoch 64, Train Acc: 98.52%, Val Loss: 0.2481, Val Acc: 93.61%\n",
            "Epoch 65, Train Acc: 98.55%, Val Loss: 0.2491, Val Acc: 93.53%\n",
            "Epoch 66, Train Acc: 98.67%, Val Loss: 0.2461, Val Acc: 93.70%\n",
            "Epoch 67, Train Acc: 98.64%, Val Loss: 0.2479, Val Acc: 93.60%\n",
            "Epoch 68, Train Acc: 98.61%, Val Loss: 0.2451, Val Acc: 93.72%\n",
            "Epoch 69, Train Acc: 98.67%, Val Loss: 0.2467, Val Acc: 93.79%\n",
            "Epoch 70, Train Acc: 98.68%, Val Loss: 0.2476, Val Acc: 93.67%\n",
            "Epoch 71, Train Acc: 98.55%, Val Loss: 0.2470, Val Acc: 93.68%\n",
            "Epoch 72, Train Acc: 98.72%, Val Loss: 0.2476, Val Acc: 93.73%\n",
            "Epoch 73, Train Acc: 98.65%, Val Loss: 0.2466, Val Acc: 93.68%\n",
            "Epoch 74, Train Acc: 98.67%, Val Loss: 0.2461, Val Acc: 93.79%\n",
            "Epoch 75, Train Acc: 98.71%, Val Loss: 0.2464, Val Acc: 93.75%\n",
            "Epoch 76, Train Acc: 98.74%, Val Loss: 0.2457, Val Acc: 93.80%\n",
            "Epoch 77, Train Acc: 98.67%, Val Loss: 0.2462, Val Acc: 93.75%\n",
            "Epoch 78, Train Acc: 98.67%, Val Loss: 0.2482, Val Acc: 93.66%\n",
            "Epoch 79, Train Acc: 98.68%, Val Loss: 0.2469, Val Acc: 93.72%\n",
            "Epoch 80, Train Acc: 98.67%, Val Loss: 0.2479, Val Acc: 93.68%\n",
            "Epoch 81, Train Acc: 98.68%, Val Loss: 0.2473, Val Acc: 93.79%\n",
            "Epoch 82, Train Acc: 98.82%, Val Loss: 0.2477, Val Acc: 93.71%\n",
            "Epoch 83, Train Acc: 98.73%, Val Loss: 0.2468, Val Acc: 93.67%\n",
            "Epoch 84, Train Acc: 98.65%, Val Loss: 0.2467, Val Acc: 93.68%\n",
            "Epoch 85, Train Acc: 98.76%, Val Loss: 0.2474, Val Acc: 93.73%\n",
            "Epoch 86, Train Acc: 98.70%, Val Loss: 0.2487, Val Acc: 93.70%\n",
            "Epoch 87, Train Acc: 98.73%, Val Loss: 0.2475, Val Acc: 93.80%\n",
            "Epoch 88, Train Acc: 98.76%, Val Loss: 0.2481, Val Acc: 93.73%\n",
            "Epoch 89, Train Acc: 98.77%, Val Loss: 0.2485, Val Acc: 93.69%\n",
            "Epoch 90, Train Acc: 98.73%, Val Loss: 0.2480, Val Acc: 93.71%\n",
            "Epoch 91, Train Acc: 98.79%, Val Loss: 0.2481, Val Acc: 93.81%\n",
            "Epoch 92, Train Acc: 98.80%, Val Loss: 0.2468, Val Acc: 93.77%\n",
            "Epoch 93, Train Acc: 98.79%, Val Loss: 0.2459, Val Acc: 93.70%\n",
            "Epoch 94, Train Acc: 98.71%, Val Loss: 0.2487, Val Acc: 93.78%\n",
            "Epoch 95, Train Acc: 98.83%, Val Loss: 0.2468, Val Acc: 93.74%\n",
            "Epoch 96, Train Acc: 98.77%, Val Loss: 0.2473, Val Acc: 93.76%\n",
            "Epoch 97, Train Acc: 98.80%, Val Loss: 0.2470, Val Acc: 93.72%\n",
            "Epoch 98, Train Acc: 98.77%, Val Loss: 0.2468, Val Acc: 93.76%\n",
            "Epoch 99, Train Acc: 98.79%, Val Loss: 0.2481, Val Acc: 93.70%\n",
            "Epoch 100, Train Acc: 98.81%, Val Loss: 0.2471, Val Acc: 93.74%\n"
          ]
        },
        {
          "data": {
            "image/png": "[encoded data removed]",
            "text/plain": [
              "<Figure size 1000x500 with 1 Axes>"
            ]
          },
          "metadata": {},
          "output_type": "display_data"
        },
        {
          "data": {
            "image/png": "[encoded data removed]",
            "text/plain": [
              "<Figure size 1000x500 with 1 Axes>"
            ]
          },
          "metadata": {},
          "output_type": "display_data"
        }
      ],
      "source": [
        "# Train and evaluate the ResNet-18 model on CIFAR-10 for 100 epochs\n",
        "train_and_evaluate(model, device, train_loader, test_loader, optimizer, scheduler, criterion, epochs=100)"
      ]
    },
    {
      "cell_type": "markdown",
      "source": [
        "\n",
        "### **Final Performance Summary**\n",
        "- **Final Training Accuracy:** **98.81%**\n",
        "- **Final Validation Accuracy:** **93.74%**\n",
        "- **Final Validation Loss:** **0.2471**\n",
        "- **Number of Epochs:** **100**\n",
        "- **Optimizer:** SGD (Momentum=0.9, Weight Decay=1e-4)\n",
        "- **Learning Rate Scheduler:** MultiStepLR (Decayed at epochs 30, 60, 80, 90)\n",
        "\n",
        "---\n",
        "\n",
        "## **Observations from Training & Validation Curves**\n",
        "### **1. Loss Trends**\n",
        "- The **training loss** decreases steadily, indicating successful model learning.\n",
        "- The **validation loss** follows a similar trend but plateaus after ~30 epochs.\n",
        "- Around **epoch 30**, there's a visible drop in loss, corresponding to the learning rate decay.\n",
        "\n",
        "### **2. Accuracy Trends**\n",
        "- The **training accuracy** reaches nearly **99%**, indicating that the model learns well.\n",
        "- The **validation accuracy** stabilizes around **93-94%**, suggesting that the model generalizes well.\n",
        "- Early on, both train and validation accuracy improve rapidly, indicating effective learning.\n",
        "- After **epoch 30**, accuracy increases in small increments due to the learning rate adjustments.\n",
        "\n",
        "### **3. Overfitting Analysis**\n",
        "- The **gap between training and validation accuracy** (~5%) suggests **minor overfitting**.\n",
        "- Since the validation accuracy does not decrease significantly, **regularization techniques like weight decay** are helping control overfitting.\n",
        "- Data augmentation techniques (rotation, cropping, etc.) might have contributed to better generalization.\n",
        "\n",
        "---\n",
        "\n",
        "## **Potential Improvements**\n",
        "- **Experiment with Regularization**: Try dropout or stronger weight decay.\n",
        "- **Data Augmentation Enhancements**: More aggressive augmentations (e.g., CutMix, Mixup) may improve generalization.\n",
        "- **Alternative Learning Rate Schedules**: Cosine Annealing or One-Cycle Learning Rate could be explored.\n",
        "- **Use of Pretrained Models**: Although not allowed in this task, pretraining on CIFAR-100/ImageNet may help in real-world applications.\n"
      ],
      "metadata": {
        "id": "DncXfYAzvULk"
      }
    },
    {
      "cell_type": "markdown",
      "source": [
        "# **Saving the Trained Model**\n",
        "Once training is complete, we save the trained **ResNet-18 model** so that it can be **loaded later** for inference or fine-tuning."
      ],
      "metadata": {
        "id": "KAAAm9yKvln1"
      }
    },
    {
      "cell_type": "code",
      "execution_count": null,
      "metadata": {
        "colab": {
          "base_uri": "https://localhost:8080/"
        },
        "id": "adrCbEEFeYsa",
        "outputId": "9c9902d9-f5fc-49eb-a317-59e256d45b41"
      },
      "outputs": [
        {
          "name": "stdout",
          "output_type": "stream",
          "text": [
            "Model saved successfully!\n"
          ]
        }
      ],
      "source": [
        "# Saving the trained model weights\n",
        "torch.save(model.state_dict(), \"resnet18_cifar10.pth\")\n",
        "print(\"Model saved successfully!\")"
      ]
    },
    {
      "cell_type": "markdown",
      "source": [
        "### **Explanation**\n",
        "- **torch.save(model.state_dict(), \"resnet18_cifar10.pth\")**\n",
        "  - Saves the model's **learned parameters** (weights & biases).\n",
        "  - The file **\"resnet18_cifar10.pth\"** will store these parameters.\n",
        "  - This allows for **reusing the model without retraining**."
      ],
      "metadata": {
        "id": "fEgz7HfHvxF8"
      }
    },
    {
      "cell_type": "markdown",
      "source": [
        "# **Loading and Evaluating the Saved Model**\n",
        "Once the model is saved, we can **load it back** for inference or further evaluation."
      ],
      "metadata": {
        "id": "B_r8CMNnv1mU"
      }
    },
    {
      "cell_type": "code",
      "execution_count": null,
      "metadata": {
        "colab": {
          "base_uri": "https://localhost:8080/"
        },
        "id": "FWL8sURTeddX",
        "outputId": "ff26582f-335c-474c-ce89-846aace1ed58"
      },
      "outputs": [
        {
          "name": "stderr",
          "output_type": "stream",
          "text": [
            "<ipython-input-35-6246509491ba>:3: FutureWarning: You are using `torch.load` with `weights_only=False` (the current default value), which uses the default pickle module implicitly. It is possible to construct malicious pickle data which will execute arbitrary code during unpickling (See https://github.com/pytorch/pytorch/blob/main/SECURITY.md#untrusted-models for more details). In a future release, the default value for `weights_only` will be flipped to `True`. This limits the functions that could be executed during unpickling. Arbitrary objects will no longer be allowed to be loaded via this mode unless they are explicitly allowlisted by the user via `torch.serialization.add_safe_globals`. We recommend you start setting `weights_only=True` for any use case where you don't have full control of the loaded file. Please open an issue on GitHub for any issues related to this experimental feature.\n",
            "  model.load_state_dict(torch.load(\"resnet18_cifar10.pth\"))\n"
          ]
        },
        {
          "data": {
            "text/plain": [
              "ResNet18(\n",
              "  (conv1): Conv2d(3, 64, kernel_size=(3, 3), stride=(1, 1), padding=(1, 1), bias=False)\n",
              "  (bn1): BatchNorm2d(64, eps=1e-05, momentum=0.1, affine=True, track_running_stats=True)\n",
              "  (layer1): Sequential(\n",
              "    (0): BasicBlock(\n",
              "      (conv1): Conv2d(64, 64, kernel_size=(3, 3), stride=(1, 1), padding=(1, 1), bias=False)\n",
              "      (bn1): BatchNorm2d(64, eps=1e-05, momentum=0.1, affine=True, track_running_stats=True)\n",
              "      (relu): ReLU(inplace=True)\n",
              "      (conv2): Conv2d(64, 64, kernel_size=(3, 3), stride=(1, 1), padding=(1, 1), bias=False)\n",
              "      (bn2): BatchNorm2d(64, eps=1e-05, momentum=0.1, affine=True, track_running_stats=True)\n",
              "      (shortcut): Sequential()\n",
              "    )\n",
              "    (1): BasicBlock(\n",
              "      (conv1): Conv2d(64, 64, kernel_size=(3, 3), stride=(1, 1), padding=(1, 1), bias=False)\n",
              "      (bn1): BatchNorm2d(64, eps=1e-05, momentum=0.1, affine=True, track_running_stats=True)\n",
              "      (relu): ReLU(inplace=True)\n",
              "      (conv2): Conv2d(64, 64, kernel_size=(3, 3), stride=(1, 1), padding=(1, 1), bias=False)\n",
              "      (bn2): BatchNorm2d(64, eps=1e-05, momentum=0.1, affine=True, track_running_stats=True)\n",
              "      (shortcut): Sequential()\n",
              "    )\n",
              "    (2): BasicBlock(\n",
              "      (conv1): Conv2d(64, 64, kernel_size=(3, 3), stride=(1, 1), padding=(1, 1), bias=False)\n",
              "      (bn1): BatchNorm2d(64, eps=1e-05, momentum=0.1, affine=True, track_running_stats=True)\n",
              "      (relu): ReLU(inplace=True)\n",
              "      (conv2): Conv2d(64, 64, kernel_size=(3, 3), stride=(1, 1), padding=(1, 1), bias=False)\n",
              "      (bn2): BatchNorm2d(64, eps=1e-05, momentum=0.1, affine=True, track_running_stats=True)\n",
              "      (shortcut): Sequential()\n",
              "    )\n",
              "  )\n",
              "  (layer2): Sequential(\n",
              "    (0): BasicBlock(\n",
              "      (conv1): Conv2d(64, 128, kernel_size=(3, 3), stride=(2, 2), padding=(1, 1), bias=False)\n",
              "      (bn1): BatchNorm2d(128, eps=1e-05, momentum=0.1, affine=True, track_running_stats=True)\n",
              "      (relu): ReLU(inplace=True)\n",
              "      (conv2): Conv2d(128, 128, kernel_size=(3, 3), stride=(1, 1), padding=(1, 1), bias=False)\n",
              "      (bn2): BatchNorm2d(128, eps=1e-05, momentum=0.1, affine=True, track_running_stats=True)\n",
              "      (shortcut): Sequential(\n",
              "        (0): Conv2d(64, 128, kernel_size=(1, 1), stride=(2, 2), bias=False)\n",
              "        (1): BatchNorm2d(128, eps=1e-05, momentum=0.1, affine=True, track_running_stats=True)\n",
              "      )\n",
              "    )\n",
              "    (1): BasicBlock(\n",
              "      (conv1): Conv2d(128, 128, kernel_size=(3, 3), stride=(1, 1), padding=(1, 1), bias=False)\n",
              "      (bn1): BatchNorm2d(128, eps=1e-05, momentum=0.1, affine=True, track_running_stats=True)\n",
              "      (relu): ReLU(inplace=True)\n",
              "      (conv2): Conv2d(128, 128, kernel_size=(3, 3), stride=(1, 1), padding=(1, 1), bias=False)\n",
              "      (bn2): BatchNorm2d(128, eps=1e-05, momentum=0.1, affine=True, track_running_stats=True)\n",
              "      (shortcut): Sequential()\n",
              "    )\n",
              "    (2): BasicBlock(\n",
              "      (conv1): Conv2d(128, 128, kernel_size=(3, 3), stride=(1, 1), padding=(1, 1), bias=False)\n",
              "      (bn1): BatchNorm2d(128, eps=1e-05, momentum=0.1, affine=True, track_running_stats=True)\n",
              "      (relu): ReLU(inplace=True)\n",
              "      (conv2): Conv2d(128, 128, kernel_size=(3, 3), stride=(1, 1), padding=(1, 1), bias=False)\n",
              "      (bn2): BatchNorm2d(128, eps=1e-05, momentum=0.1, affine=True, track_running_stats=True)\n",
              "      (shortcut): Sequential()\n",
              "    )\n",
              "  )\n",
              "  (layer3): Sequential(\n",
              "    (0): BasicBlock(\n",
              "      (conv1): Conv2d(128, 192, kernel_size=(3, 3), stride=(2, 2), padding=(1, 1), bias=False)\n",
              "      (bn1): BatchNorm2d(192, eps=1e-05, momentum=0.1, affine=True, track_running_stats=True)\n",
              "      (relu): ReLU(inplace=True)\n",
              "      (conv2): Conv2d(192, 192, kernel_size=(3, 3), stride=(1, 1), padding=(1, 1), bias=False)\n",
              "      (bn2): BatchNorm2d(192, eps=1e-05, momentum=0.1, affine=True, track_running_stats=True)\n",
              "      (shortcut): Sequential(\n",
              "        (0): Conv2d(128, 192, kernel_size=(1, 1), stride=(2, 2), bias=False)\n",
              "        (1): BatchNorm2d(192, eps=1e-05, momentum=0.1, affine=True, track_running_stats=True)\n",
              "      )\n",
              "    )\n",
              "    (1): BasicBlock(\n",
              "      (conv1): Conv2d(192, 192, kernel_size=(3, 3), stride=(1, 1), padding=(1, 1), bias=False)\n",
              "      (bn1): BatchNorm2d(192, eps=1e-05, momentum=0.1, affine=True, track_running_stats=True)\n",
              "      (relu): ReLU(inplace=True)\n",
              "      (conv2): Conv2d(192, 192, kernel_size=(3, 3), stride=(1, 1), padding=(1, 1), bias=False)\n",
              "      (bn2): BatchNorm2d(192, eps=1e-05, momentum=0.1, affine=True, track_running_stats=True)\n",
              "      (shortcut): Sequential()\n",
              "    )\n",
              "    (2): BasicBlock(\n",
              "      (conv1): Conv2d(192, 192, kernel_size=(3, 3), stride=(1, 1), padding=(1, 1), bias=False)\n",
              "      (bn1): BatchNorm2d(192, eps=1e-05, momentum=0.1, affine=True, track_running_stats=True)\n",
              "      (relu): ReLU(inplace=True)\n",
              "      (conv2): Conv2d(192, 192, kernel_size=(3, 3), stride=(1, 1), padding=(1, 1), bias=False)\n",
              "      (bn2): BatchNorm2d(192, eps=1e-05, momentum=0.1, affine=True, track_running_stats=True)\n",
              "      (shortcut): Sequential()\n",
              "    )\n",
              "  )\n",
              "  (layer4): Sequential(\n",
              "    (0): BasicBlock(\n",
              "      (conv1): Conv2d(192, 192, kernel_size=(3, 3), stride=(2, 2), padding=(1, 1), bias=False)\n",
              "      (bn1): BatchNorm2d(192, eps=1e-05, momentum=0.1, affine=True, track_running_stats=True)\n",
              "      (relu): ReLU(inplace=True)\n",
              "      (conv2): Conv2d(192, 192, kernel_size=(3, 3), stride=(1, 1), padding=(1, 1), bias=False)\n",
              "      (bn2): BatchNorm2d(192, eps=1e-05, momentum=0.1, affine=True, track_running_stats=True)\n",
              "      (shortcut): Sequential(\n",
              "        (0): Conv2d(192, 192, kernel_size=(1, 1), stride=(2, 2), bias=False)\n",
              "        (1): BatchNorm2d(192, eps=1e-05, momentum=0.1, affine=True, track_running_stats=True)\n",
              "      )\n",
              "    )\n",
              "    (1): BasicBlock(\n",
              "      (conv1): Conv2d(192, 192, kernel_size=(3, 3), stride=(1, 1), padding=(1, 1), bias=False)\n",
              "      (bn1): BatchNorm2d(192, eps=1e-05, momentum=0.1, affine=True, track_running_stats=True)\n",
              "      (relu): ReLU(inplace=True)\n",
              "      (conv2): Conv2d(192, 192, kernel_size=(3, 3), stride=(1, 1), padding=(1, 1), bias=False)\n",
              "      (bn2): BatchNorm2d(192, eps=1e-05, momentum=0.1, affine=True, track_running_stats=True)\n",
              "      (shortcut): Sequential()\n",
              "    )\n",
              "  )\n",
              "  (avg_pool): AdaptiveAvgPool2d(output_size=1)\n",
              "  (fc): Linear(in_features=192, out_features=10, bias=True)\n",
              ")"
            ]
          },
          "execution_count": 35,
          "metadata": {},
          "output_type": "execute_result"
        }
      ],
      "source": [
        "# Initialize model\n",
        "model = ResNet18(num_classes=10).to(device)\n",
        "\n",
        "# Load trained weights\n",
        "model.load_state_dict(torch.load(\"resnet18_cifar10.pth\"))\n",
        "\n",
        "# Set to evaluation mode\n",
        "model.eval()"
      ]
    },
    {
      "cell_type": "markdown",
      "source": [
        "## **Model Summary**\n",
        "- **Model:** ResNet-18\n",
        "- **Input Shape:** (3, 32, 32) (CIFAR-10 dataset)\n",
        "- **Total Layers:** 4 residual blocks with multiple convolutional layers.\n",
        "- **Final Output:** Fully connected (FC) layer with 10 output classes.\n"
      ],
      "metadata": {
        "id": "63EG3v2jwaMp"
      }
    },
    {
      "cell_type": "markdown",
      "source": [
        "### **Explanation**\n",
        "- **ResNet18(num_classes=10).to(device)**  \n",
        "  - Initializes the model and moves it to GPU (if available).\n",
        "- **model.load_state_dict(torch.load(\"resnet18_cifar10.pth\"))**  \n",
        "  - Loads the pre-trained weights from the saved file.\n",
        "- **model.eval()**  \n",
        "  - Switches the model to **evaluation mode**:\n",
        "    - **Disables Dropout:** Ensures stable predictions.\n",
        "    - **Freezes Batch Normalization:** Keeps batch statistics unchanged.\n",
        "\n",
        "---"
      ],
      "metadata": {
        "id": "OvTD5xewv7Bc"
      }
    },
    {
      "cell_type": "markdown",
      "source": [
        "# **Generating Predictions & Submission File**\n",
        "After successfully **loading the trained ResNet-18 model**, we perform **inference on test images**  \n",
        "and generate a **CSV submission file** with predicted labels."
      ],
      "metadata": {
        "id": "mzBBibZ1wet3"
      }
    },
    {
      "cell_type": "code",
      "execution_count": null,
      "metadata": {
        "id": "WlsQVRk3ed9i"
      },
      "outputs": [],
      "source": [
        "predictions = []\n",
        "with torch.no_grad():\n",
        "    for batch in test_loader:\n",
        "        images = batch[0].to(device)  # Get images tensor from tuple and move to device\n",
        "        outputs = model(images)\n",
        "        _, predicted = torch.max(outputs, 1)\n",
        "        predictions.extend(predicted.cpu().numpy())\n",
        "\n",
        "# Generate submission file\n",
        "submission = pd.DataFrame({'ID': np.arange(len(predictions)), 'Labels': predictions})\n",
        "submission.to_csv('/content/submission_modified1.csv', index=False)\n",
        "print(\"Submission1 file saved.\")"
      ]
    },
    {
      "cell_type": "markdown",
      "source": [
        "---\n",
        "\n",
        "## **Conclusion**\n",
        "- The model achieves **state-of-the-art performance (~94%) on CIFAR-10** within 100 epochs.\n",
        "- The training is **well-optimized**, with proper loss reduction and accuracy improvement over epochs.\n",
        "- **Future work** can focus on further minimizing the **train-validation accuracy gap** while maintaining or improving generalization.\n",
        "\n",
        "---"
      ],
      "metadata": {
        "id": "zNVAzfj_ve8y"
      }
    },
    {
      "cell_type": "code",
      "source": [],
      "metadata": {
        "id": "8ylDwsE5vfRR"
      },
      "execution_count": null,
      "outputs": []
    }
  ],
  "metadata": {
    "accelerator": "GPU",
    "colab": {
      "gpuType": "T4",
      "provenance": []
    },
    "kernelspec": {
      "display_name": "Python 3",
      "name": "python3"
    },
    "language_info": {
      "name": "python"
    }
  },
  "nbformat": 4,
  "nbformat_minor": 0
}